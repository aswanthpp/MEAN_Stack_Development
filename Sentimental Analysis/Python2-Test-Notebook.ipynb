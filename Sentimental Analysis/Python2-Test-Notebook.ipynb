{
 "cells": [
  {
   "cell_type": "code",
   "execution_count": 7,
   "metadata": {},
   "outputs": [
    {
     "ename": "AttributeError",
     "evalue": "module 'twitter' has no attribute 'Api'",
     "output_type": "error",
     "traceback": [
      "\u001b[0;31m---------------------------------------------------------------------------\u001b[0m",
      "\u001b[0;31mAttributeError\u001b[0m                            Traceback (most recent call last)",
      "\u001b[0;32m<ipython-input-7-bf26cfbd1ff6>\u001b[0m in \u001b[0;36m<module>\u001b[0;34m\u001b[0m\n\u001b[1;32m      7\u001b[0m \u001b[0;31m#                         access_token_secret='YOUR_ACCESS_TOKEN_SECRET')\u001b[0m\u001b[0;34m\u001b[0m\u001b[0;34m\u001b[0m\u001b[0m\n\u001b[1;32m      8\u001b[0m \u001b[0;34m\u001b[0m\u001b[0m\n\u001b[0;32m----> 9\u001b[0;31m twitter_api = twitter.Api(consumer_key='ik3xuGtPTOzMx5YYmgZ5DLCY7',\n\u001b[0m\u001b[1;32m     10\u001b[0m                         \u001b[0mconsumer_secret\u001b[0m\u001b[0;34m=\u001b[0m\u001b[0;34m'9u0kNabCmvgtgOtUTkhsydf9TuGY5wjXKjVnZq200X6ZHXdtNm '\u001b[0m\u001b[0;34m,\u001b[0m\u001b[0;34m\u001b[0m\u001b[0m\n\u001b[1;32m     11\u001b[0m                         \u001b[0maccess_token_key\u001b[0m\u001b[0;34m=\u001b[0m\u001b[0;34m'1147564342251941888-Cd1KELvrcrTWtKxJJjTJjrDcrIQylw'\u001b[0m\u001b[0;34m,\u001b[0m\u001b[0;34m\u001b[0m\u001b[0m\n",
      "\u001b[0;31mAttributeError\u001b[0m: module 'twitter' has no attribute 'Api'"
     ]
    }
   ],
   "source": [
    "import twitter\n",
    "\n",
    "# initialize api instance\n",
    "# twitter_api = twitter.Api(consumer_key='YOUR_CONSUMER_KEY',\n",
    "#                         consumer_secret='YOUR_CONSUMER_SECRET',\n",
    "#                         access_token_key='YOUR_ACCESS_TOKEN_KEY',\n",
    "#                         access_token_secret='YOUR_ACCESS_TOKEN_SECRET')\n",
    "\n",
    "\n",
    "# test authentication\n",
    "print(twitter_api.VerifyCredentials())\n"
   ]
  },
  {
   "cell_type": "code",
   "execution_count": null,
   "metadata": {},
   "outputs": [],
   "source": []
  },
  {
   "cell_type": "code",
   "execution_count": null,
   "metadata": {},
   "outputs": [],
   "source": []
  }
 ],
 "metadata": {
  "kernelspec": {
   "display_name": "Python 2",
   "language": "python",
   "name": "python2"
  },
  "language_info": {
   "codemirror_mode": {
    "name": "ipython",
    "version": 3
   },
   "file_extension": ".py",
   "mimetype": "text/x-python",
   "name": "python",
   "nbconvert_exporter": "python",
   "pygments_lexer": "ipython3",
   "version": "3.5.2"
  }
 },
 "nbformat": 4,
 "nbformat_minor": 2
}
